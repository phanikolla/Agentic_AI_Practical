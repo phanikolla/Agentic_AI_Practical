{
 "cells": [
  {
   "cell_type": "markdown",
   "id": "63c3a6ff",
   "metadata": {},
   "source": [
    "## Additional Resources\n",
    "\n",
    "- [Building Agents with Model Context Protocol](https://www.youtube.com/watch?v=kQmXtrmQ5Zg&t=1s&ab_channel=AIEngineer) - Full Workshop with Mahesh Murag of Anthropic\n",
    "- [Mahesh Workshop Agent Example](https://github.com/maheshmurag/workshop-mcp-agent-example) (this example shows the use of MCP agent: an example of a host or LLM-based application that is MCP compatible).\n",
    "- [Claude Desktop Setup](https://modelcontextprotocol.io/quickstart/user) (you may need to download [Node.js](https://nodejs.org/en), and also [uv](https://github.com/astral-sh/uv?tab=readme-ov-file#installation))\n",
    "- [Testing your server with Claude Desktop](https://modelcontextprotocol.io/quickstart/server#testing-your-server-with-claude-for-desktop) - If you’re a Windows user and using uv, you may need to put the full path to the uv executable in the command field. \n",
    "- [MCP core architectures](https://modelcontextprotocol.io/docs/concepts/architecture); [MCP Python SDK](https://github.com/modelcontextprotocol/python-sdk).\n",
    "- If you code with Typescript, check this [MCP course](https://www.aihero.dev/mcp-prerequisites).\n",
    "- [MCP server with Docker](https://github.com/daveebbelaar/ai-cookbook/tree/main/mcp/crash-course/6-run-with-docker) \n",
    "  \n",
    "   In lesson 9, you can setup the remote server using `uv` as explained in the course. Then you can create this DockerFile:\n",
    "    ```\n",
    "    FROM python:3.11-slim\n",
    "    WORKDIR /app\n",
    "    RUN pip install uv\n",
    "    COPY pyproject.toml uv.lock ./\n",
    "    RUN uv pip install --system .\n",
    "    COPY research_server.py .\n",
    "    EXPOSE 8001\n",
    "    CMD [\"uv\", \"run\", \"research_server.py\"]\n",
    "    ```\n",
    "    And then create the image using  this command: `docker build -t my-server .`\n",
    "\n",
    "    Then run the container using: `docker run -p 8001:8001 my-server`\n"
   ]
  },
  {
   "cell_type": "markdown",
   "id": "44c402fb-ff01-4859-9d61-a3a8104a9d2f",
   "metadata": {},
   "source": [
    "## 🧑‍🎓 &nbsp; Efficient Learning Tips\n",
    "The following tips can help you have an efficient learning experience with this short course and other courses.\n",
    "\n",
    "**🧑‍🏫 &nbsp; Create a Dedicated Study Space:** Establish a quiet, organized workspace free from distractions. A dedicated learning environment can significantly improve concentration and overall learning efficiency.\n",
    "\n",
    "**📅 &nbsp; Develop a Consistent Learning Schedule:**\n",
    "Consistency is key to learning. Set out specific times in your day for study and make it a routine. Consistent study times help build a habit and improve information retention.\n",
    "\n",
    "**Tip:** Set a recurring event and reminder in your calendar, with clear action items, to get regular notifications about your study plans and goals.\n",
    "\n",
    "**☕ &nbsp; Take Regular Breaks:**\n",
    "Include short breaks in your study sessions. The Pomodoro Technique, which involves studying for 25 minutes followed by a 5-minute break, can be particularly effective.\n",
    "\n",
    "**💬 &nbsp; Engage with the Community:**\n",
    "Participate in forums, discussions, and group activities. Engaging with peers can provide additional insights, create a sense of community, and make learning more enjoyable.\n",
    "\n",
    "**✍ &nbsp; Practice Active Learning:**\n",
    "Don't just read or run notebooks or watch the material. Engage actively by taking notes, summarizing what you learn, teaching the concept to someone else, or applying the knowledge in your practical projects.\n",
    "\n",
    "<hr style=\"height: 3px; background-color:#f0f0f0; border: none;\">\n"
   ]
  }
 ],
 "metadata": {
  "kernelspec": {
   "display_name": "Python 3 (ipykernel)",
   "language": "python",
   "name": "python3"
  },
  "language_info": {
   "codemirror_mode": {
    "name": "ipython",
    "version": 3
   },
   "file_extension": ".py",
   "mimetype": "text/x-python",
   "name": "python",
   "nbconvert_exporter": "python",
   "pygments_lexer": "ipython3",
   "version": "3.9.6"
  }
 },
 "nbformat": 4,
 "nbformat_minor": 5
}
